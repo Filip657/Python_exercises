{
 "cells": [
  {
   "cell_type": "code",
   "execution_count": 2,
   "metadata": {},
   "outputs": [
    {
     "name": "stdout",
     "output_type": "stream",
     "text": [
      ">>>Production quantity month 1 - 0\n",
      ">>>Production Quantity month 2 -  50\n",
      ">>>Production quantity month 3 -  200\n",
      ">>>Production Quantity month 4 -  400\n",
      ">>>Production Quantity month 5 -  100\n"
     ]
    }
   ],
   "source": [
    "\n",
    "stock_level = int(input(\">>> Please enter an initial stock level: \"))\n",
    "\n",
    "nm_mnth = int(input(\">>> Please enter the number of months to plan: \"))\n",
    "\n",
    "pl_slq1 = int(input(\">>> Please enter the planned sales quantity for month 1: \"))\n",
    "pl_slq2 = int(input(\">>> Please enter the planned sales quantity for month 2: \"))\n",
    "pl_slq3 = int(input(\">>> Please enter the planned sales quantity for month 3: \"))\n",
    "pl_slq4 = int(input(\">>> Please enter the planned sales quantity for month 4: \"))\n",
    "pl_slq5 = int(input(\">>> Please enter the planned sales quantity for month 5: \"))\n",
    "\n",
    "sum1 = stock_level - pl_slq1 \n",
    "sum2 = sum1 - pl_slq2 \n",
    "sum3 = (sum2 + abs(sum2)) - pl_slq3 \n",
    "sum4 = (sum3 + abs(sum3)) - pl_slq4\n",
    "sum5 = (sum4 + abs(sum4)) - pl_slq5\n",
    "\n",
    "if stock_level > pl_slq1:\n",
    "    print(\">>>Production quantity month 1 - 0\")\n",
    "elif stock_level < pl_slq1:\n",
    "    print(\"Production quantity month 1 - \", abs(sum1))\n",
    "else:\n",
    "    print(\"Wrong input\")\n",
    "\n",
    "if sum1 < pl_slq2:\n",
    "    print(\">>>Production Quantity month 2 - \" , abs(sum2))\n",
    "elif sum1 > pl_slq2:\n",
    "    print(\"Production Quantity month 2 - 0\")\n",
    "else:\n",
    "    print(\"Wrong Input\")\n",
    "\n",
    "\n",
    "if sum2 < pl_slq3:\n",
    "    print(\">>>Production quantity month 3 - \" , abs(sum3))\n",
    "elif sum2 > pl_slq3:\n",
    "    print(\"Production Quantity month 3 - 0\",)\n",
    "else:\n",
    "    print(\"Wrong Input\")\n",
    "\n",
    "if sum3 < pl_slq4:\n",
    "    print(\">>>Production Quantity month 4 - \" ,abs(sum4))\n",
    "elif sum3 > pl_slq4:\n",
    "    print(\">>>Production Quantity month 4 - 0 \")\n",
    "else:\n",
    "    print(\"Wrong Input\")\n",
    "\n",
    "if sum4 < pl_slq5:\n",
    "    print(\">>>Production Quantity month 5 - \" , abs(sum5))\n",
    "elif sum4 > pl_slq5:\n",
    "    print(\"Production Quantity month 5 - 0 \")\n",
    "else:\n",
    "    print(\"Wrong Input\")"
   ]
  }
 ],
 "metadata": {
  "kernelspec": {
   "display_name": "Python 3",
   "language": "python",
   "name": "python3"
  },
  "language_info": {
   "codemirror_mode": {
    "name": "ipython",
    "version": 3
   },
   "file_extension": ".py",
   "mimetype": "text/x-python",
   "name": "python",
   "nbconvert_exporter": "python",
   "pygments_lexer": "ipython3",
   "version": "3.11.4"
  },
  "orig_nbformat": 4
 },
 "nbformat": 4,
 "nbformat_minor": 2
}
